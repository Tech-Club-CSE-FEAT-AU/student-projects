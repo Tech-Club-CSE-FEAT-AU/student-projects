{
 "cells": [
  {
   "cell_type": "markdown",
   "id": "739afdc1",
   "metadata": {},
   "source": [
    "QR Code Generation using Python\n",
    "======="
   ]
  },
  {
   "cell_type": "markdown",
   "id": "65c897ba",
   "metadata": {},
   "source": [
    "QR code stands for Quick Response Code.\n",
    "-----"
   ]
  },
  {
   "cell_type": "markdown",
   "id": "c30a6cd7",
   "metadata": {},
   "source": [
    "QR codes may look simple but they are capable of storing lots of data. Irrespective of how much data they contain when scanned QR code allows the user to access information instantly. That is why they are called Quick Response Code."
   ]
  },
  {
   "cell_type": "markdown",
   "id": "38c5b87d",
   "metadata": {},
   "source": [
    "These are being used in many scenarios these days. It first appeared in Japan in 1994. QR codes can be used to store(encode) lots of data and that too of various types. For example, they can be used to encode:"
   ]
  },
  {
   "cell_type": "markdown",
   "id": "9e07d1a2",
   "metadata": {},
   "source": [
    "\n",
    "    1)Contact details\n",
    "    \n",
    "    2)Facebook ids, Instagram ids,Twitterids, WhatsApp ids, and more.\n",
    "      \n",
    "    3)Youtube links\n",
    "    \n",
    "    4)Product details\n",
    "    \n",
    "    5)Event Details\n",
    "    \n",
    "    6) Link directly to download app on the App Store or GooglePlay.\n",
    "    \n",
    " \n"
   ]
  },
  {
   "cell_type": "markdown",
   "id": "c3d3b23b",
   "metadata": {},
   "source": [
    "Dependencies\n",
    "----"
   ]
  },
  {
   "cell_type": "markdown",
   "id": "9aab7f3b",
   "metadata": {},
   "source": [
    "For QR code generation using python, we are going to use a python module called QRcode."
   ]
  },
  {
   "cell_type": "markdown",
   "id": "85183dd4",
   "metadata": {},
   "source": [
    "Link: https://pypi.org/project/qrcode/\n",
    "        \n",
    "\n",
    "Install it using this command: pip install qrcode"
   ]
  },
  {
   "cell_type": "markdown",
   "id": "9030d54d",
   "metadata": {},
   "source": [
    "For viewing the QR in jpg format, we are going to use a python module called ipython."
   ]
  },
  {
   "cell_type": "markdown",
   "id": "fe2ba493",
   "metadata": {},
   "source": [
    "Link: https://pypi.org/project/ipython/\n",
    "        \n",
    "\n",
    "Install it using this command: pip install ipython"
   ]
  },
  {
   "cell_type": "markdown",
   "id": "c90c0a04",
   "metadata": {},
   "source": [
    "For decode a QR code back, we are going to use a python module called opencv."
   ]
  },
  {
   "cell_type": "markdown",
   "id": "f48685be",
   "metadata": {},
   "source": [
    "Link: https://pypi.org/project/opencv-python/\n",
    "        \n",
    "\n",
    "Install it using this command: pip install opencv-python"
   ]
  },
  {
   "cell_type": "markdown",
   "id": "77bceb61",
   "metadata": {},
   "source": [
    "Import our dependencies\n",
    "-----"
   ]
  },
  {
   "cell_type": "code",
   "execution_count": 1,
   "id": "d6e494e5",
   "metadata": {},
   "outputs": [],
   "source": [
    "#For QR code generation\n",
    "import qrcode\n",
    "\n",
    "#For viewing the QR in jpg format\n",
    "from IPython.display import Image\n",
    "\n",
    "#For decode a QR code\n",
    "import cv2"
   ]
  },
  {
   "cell_type": "code",
   "execution_count": 2,
   "id": "8e66bfc0",
   "metadata": {},
   "outputs": [],
   "source": [
    "#QR code generation\n",
    "img = qrcode.make(\"https://github.com/RAGUPATHI-M\")\n",
    "img.save(\"github_id.jpg\")\n"
   ]
  },
  {
   "cell_type": "code",
   "execution_count": 3,
   "id": "4ad6dad9",
   "metadata": {},
   "outputs": [
    {
     "data": {
      "image/jpeg": "[encoded data removed]",
      "text/plain": [
       "<IPython.core.display.Image object>"
      ]
     },
     "execution_count": 3,
     "metadata": {},
     "output_type": "execute_result"
    }
   ],
   "source": [
    "#viewing the QR\n",
    "Image(filename='github_id.jpg')"
   ]
  },
  {
   "cell_type": "code",
   "execution_count": 4,
   "id": "e7b4683a",
   "metadata": {},
   "outputs": [],
   "source": [
    " #encode a QR code\n",
    "img = qrcode.make(\"NOTHING.\")\n",
    "img.save(\"message.jpg\")   "
   ]
  },
  {
   "cell_type": "code",
   "execution_count": 5,
   "id": "7b18541d",
   "metadata": {},
   "outputs": [
    {
     "data": {
      "image/jpeg": "[encoded data removed]",
      "text/plain": [
       "<IPython.core.display.Image object>"
      ]
     },
     "execution_count": 5,
     "metadata": {},
     "output_type": "execute_result"
    }
   ],
   "source": [
    "#viewing the QR\n",
    "Image(filename='message.jpg')"
   ]
  },
  {
   "cell_type": "code",
   "execution_count": 6,
   "id": "2a2c43c5",
   "metadata": {},
   "outputs": [
    {
     "name": "stdout",
     "output_type": "stream",
     "text": [
      "Decoded text is:  NOTHING.\n"
     ]
    }
   ],
   "source": [
    "#decode a QR code\n",
    "d = cv2.QRCodeDetector()\n",
    "val, _, _ = d.detectAndDecode(cv2.imread(\"message.jpg\"))\n",
    "print(\"Decoded text is: \", val)"
   ]
  },
  {
   "cell_type": "code",
   "execution_count": null,
   "id": "1356e984",
   "metadata": {},
   "outputs": [],
   "source": []
  }
 ],
 "metadata": {
  "kernelspec": {
   "display_name": "Python 3 (ipykernel)",
   "language": "python",
   "name": "python3"
  },
  "language_info": {
   "codemirror_mode": {
    "name": "ipython",
    "version": 3
   },
   "file_extension": ".py",
   "mimetype": "text/x-python",
   "name": "python",
   "nbconvert_exporter": "python",
   "pygments_lexer": "ipython3",
   "version": "3.8.10"
  }
 },
 "nbformat": 4,
 "nbformat_minor": 5
}
